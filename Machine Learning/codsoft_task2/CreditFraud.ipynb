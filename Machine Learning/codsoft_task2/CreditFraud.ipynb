{
  "cells": [
    {
      "cell_type": "markdown",
      "metadata": {
        "id": "h5B9DXUaG93h"
      },
      "source": [
        "Importing Modules/Dependencies for Data Handling"
      ]
    },
    {
      "cell_type": "code",
      "execution_count": 2,
      "metadata": {
        "id": "qXnCuxjVGhDP"
      },
      "outputs": [],
      "source": [
        "import numpy as np\n",
        "import pandas as pd"
      ]
    },
    {
      "cell_type": "markdown",
      "metadata": {
        "id": "GAhljMCXYcuW"
      },
      "source": [
        "Reading Training and Testing Data Sets (Downloaded from https://www.kaggle.com/datasets/kartik2112/fraud-detection/data)"
      ]
    },
    {
      "cell_type": "code",
      "execution_count": 3,
      "metadata": {
        "id": "RZPLQQVmHdyR"
      },
      "outputs": [],
      "source": [
        "credit_data = pd.read_csv(r'D:\\CodSoft\\Machine Learning\\Credit_Card_Fraud_Detection\\fraudTrain.csv')\n",
        "test_data = pd.read_csv(r'D:\\CodSoft\\Machine Learning\\Credit_Card_Fraud_Detection\\fraudTest.csv')"
      ]
    },
    {
      "cell_type": "code",
      "execution_count": 4,
      "metadata": {
        "colab": {
          "base_uri": "https://localhost:8080/",
          "height": 498
        },
        "id": "cA8GNkJxIe0I",
        "outputId": "b052f72c-6431-4819-b826-2695852ce19a"
      },
      "outputs": [
        {
          "data": {
            "text/html": [
              "<div>\n",
              "<style scoped>\n",
              "    .dataframe tbody tr th:only-of-type {\n",
              "        vertical-align: middle;\n",
              "    }\n",
              "\n",
              "    .dataframe tbody tr th {\n",
              "        vertical-align: top;\n",
              "    }\n",
              "\n",
              "    .dataframe thead th {\n",
              "        text-align: right;\n",
              "    }\n",
              "</style>\n",
              "<table border=\"1\" class=\"dataframe\">\n",
              "  <thead>\n",
              "    <tr style=\"text-align: right;\">\n",
              "      <th></th>\n",
              "      <th>Unnamed: 0</th>\n",
              "      <th>trans_date_trans_time</th>\n",
              "      <th>cc_num</th>\n",
              "      <th>merchant</th>\n",
              "      <th>category</th>\n",
              "      <th>amt</th>\n",
              "      <th>first</th>\n",
              "      <th>last</th>\n",
              "      <th>gender</th>\n",
              "      <th>street</th>\n",
              "      <th>...</th>\n",
              "      <th>lat</th>\n",
              "      <th>long</th>\n",
              "      <th>city_pop</th>\n",
              "      <th>job</th>\n",
              "      <th>dob</th>\n",
              "      <th>trans_num</th>\n",
              "      <th>unix_time</th>\n",
              "      <th>merch_lat</th>\n",
              "      <th>merch_long</th>\n",
              "      <th>is_fraud</th>\n",
              "    </tr>\n",
              "  </thead>\n",
              "  <tbody>\n",
              "    <tr>\n",
              "      <th>1296670</th>\n",
              "      <td>1296670</td>\n",
              "      <td>2020-06-21 12:12:08</td>\n",
              "      <td>30263540414123</td>\n",
              "      <td>fraud_Reichel Inc</td>\n",
              "      <td>entertainment</td>\n",
              "      <td>15.56</td>\n",
              "      <td>Erik</td>\n",
              "      <td>Patterson</td>\n",
              "      <td>M</td>\n",
              "      <td>162 Jessica Row Apt. 072</td>\n",
              "      <td>...</td>\n",
              "      <td>37.7175</td>\n",
              "      <td>-112.4777</td>\n",
              "      <td>258</td>\n",
              "      <td>Geoscientist</td>\n",
              "      <td>1961-11-24</td>\n",
              "      <td>440b587732da4dc1a6395aba5fb41669</td>\n",
              "      <td>1371816728</td>\n",
              "      <td>36.841266</td>\n",
              "      <td>-111.690765</td>\n",
              "      <td>0</td>\n",
              "    </tr>\n",
              "    <tr>\n",
              "      <th>1296671</th>\n",
              "      <td>1296671</td>\n",
              "      <td>2020-06-21 12:12:19</td>\n",
              "      <td>6011149206456997</td>\n",
              "      <td>fraud_Abernathy and Sons</td>\n",
              "      <td>food_dining</td>\n",
              "      <td>51.70</td>\n",
              "      <td>Jeffrey</td>\n",
              "      <td>White</td>\n",
              "      <td>M</td>\n",
              "      <td>8617 Holmes Terrace Suite 651</td>\n",
              "      <td>...</td>\n",
              "      <td>39.2667</td>\n",
              "      <td>-77.5101</td>\n",
              "      <td>100</td>\n",
              "      <td>Production assistant, television</td>\n",
              "      <td>1979-12-11</td>\n",
              "      <td>278000d2e0d2277d1de2f890067dcc0a</td>\n",
              "      <td>1371816739</td>\n",
              "      <td>38.906881</td>\n",
              "      <td>-78.246528</td>\n",
              "      <td>0</td>\n",
              "    </tr>\n",
              "    <tr>\n",
              "      <th>1296672</th>\n",
              "      <td>1296672</td>\n",
              "      <td>2020-06-21 12:12:32</td>\n",
              "      <td>3514865930894695</td>\n",
              "      <td>fraud_Stiedemann Ltd</td>\n",
              "      <td>food_dining</td>\n",
              "      <td>105.93</td>\n",
              "      <td>Christopher</td>\n",
              "      <td>Castaneda</td>\n",
              "      <td>M</td>\n",
              "      <td>1632 Cohen Drive Suite 639</td>\n",
              "      <td>...</td>\n",
              "      <td>32.9396</td>\n",
              "      <td>-105.8189</td>\n",
              "      <td>899</td>\n",
              "      <td>Naval architect</td>\n",
              "      <td>1967-08-30</td>\n",
              "      <td>483f52fe67fabef353d552c1e662974c</td>\n",
              "      <td>1371816752</td>\n",
              "      <td>33.619513</td>\n",
              "      <td>-105.130529</td>\n",
              "      <td>0</td>\n",
              "    </tr>\n",
              "    <tr>\n",
              "      <th>1296673</th>\n",
              "      <td>1296673</td>\n",
              "      <td>2020-06-21 12:13:36</td>\n",
              "      <td>2720012583106919</td>\n",
              "      <td>fraud_Reinger, Weissnat and Strosin</td>\n",
              "      <td>food_dining</td>\n",
              "      <td>74.90</td>\n",
              "      <td>Joseph</td>\n",
              "      <td>Murray</td>\n",
              "      <td>M</td>\n",
              "      <td>42933 Ryan Underpass</td>\n",
              "      <td>...</td>\n",
              "      <td>43.3526</td>\n",
              "      <td>-102.5411</td>\n",
              "      <td>1126</td>\n",
              "      <td>Volunteer coordinator</td>\n",
              "      <td>1980-08-18</td>\n",
              "      <td>d667cdcbadaaed3da3f4020e83591c83</td>\n",
              "      <td>1371816816</td>\n",
              "      <td>42.788940</td>\n",
              "      <td>-103.241160</td>\n",
              "      <td>0</td>\n",
              "    </tr>\n",
              "    <tr>\n",
              "      <th>1296674</th>\n",
              "      <td>1296674</td>\n",
              "      <td>2020-06-21 12:13:37</td>\n",
              "      <td>4292902571056973207</td>\n",
              "      <td>fraud_Langosh, Wintheiser and Hyatt</td>\n",
              "      <td>food_dining</td>\n",
              "      <td>4.30</td>\n",
              "      <td>Jeffrey</td>\n",
              "      <td>Smith</td>\n",
              "      <td>M</td>\n",
              "      <td>135 Joseph Mountains</td>\n",
              "      <td>...</td>\n",
              "      <td>45.8433</td>\n",
              "      <td>-113.8748</td>\n",
              "      <td>218</td>\n",
              "      <td>Therapist, horticultural</td>\n",
              "      <td>1995-08-16</td>\n",
              "      <td>8f7c8e4ab7f25875d753b422917c98c9</td>\n",
              "      <td>1371816817</td>\n",
              "      <td>46.565983</td>\n",
              "      <td>-114.186110</td>\n",
              "      <td>0</td>\n",
              "    </tr>\n",
              "  </tbody>\n",
              "</table>\n",
              "<p>5 rows × 23 columns</p>\n",
              "</div>"
            ],
            "text/plain": [
              "         Unnamed: 0 trans_date_trans_time               cc_num  \\\n",
              "1296670     1296670   2020-06-21 12:12:08       30263540414123   \n",
              "1296671     1296671   2020-06-21 12:12:19     6011149206456997   \n",
              "1296672     1296672   2020-06-21 12:12:32     3514865930894695   \n",
              "1296673     1296673   2020-06-21 12:13:36     2720012583106919   \n",
              "1296674     1296674   2020-06-21 12:13:37  4292902571056973207   \n",
              "\n",
              "                                    merchant       category     amt  \\\n",
              "1296670                    fraud_Reichel Inc  entertainment   15.56   \n",
              "1296671             fraud_Abernathy and Sons    food_dining   51.70   \n",
              "1296672                 fraud_Stiedemann Ltd    food_dining  105.93   \n",
              "1296673  fraud_Reinger, Weissnat and Strosin    food_dining   74.90   \n",
              "1296674  fraud_Langosh, Wintheiser and Hyatt    food_dining    4.30   \n",
              "\n",
              "               first       last gender                         street  ...  \\\n",
              "1296670         Erik  Patterson      M       162 Jessica Row Apt. 072  ...   \n",
              "1296671      Jeffrey      White      M  8617 Holmes Terrace Suite 651  ...   \n",
              "1296672  Christopher  Castaneda      M     1632 Cohen Drive Suite 639  ...   \n",
              "1296673       Joseph     Murray      M           42933 Ryan Underpass  ...   \n",
              "1296674      Jeffrey      Smith      M           135 Joseph Mountains  ...   \n",
              "\n",
              "             lat      long  city_pop                               job  \\\n",
              "1296670  37.7175 -112.4777       258                      Geoscientist   \n",
              "1296671  39.2667  -77.5101       100  Production assistant, television   \n",
              "1296672  32.9396 -105.8189       899                   Naval architect   \n",
              "1296673  43.3526 -102.5411      1126             Volunteer coordinator   \n",
              "1296674  45.8433 -113.8748       218          Therapist, horticultural   \n",
              "\n",
              "                dob                         trans_num   unix_time  merch_lat  \\\n",
              "1296670  1961-11-24  440b587732da4dc1a6395aba5fb41669  1371816728  36.841266   \n",
              "1296671  1979-12-11  278000d2e0d2277d1de2f890067dcc0a  1371816739  38.906881   \n",
              "1296672  1967-08-30  483f52fe67fabef353d552c1e662974c  1371816752  33.619513   \n",
              "1296673  1980-08-18  d667cdcbadaaed3da3f4020e83591c83  1371816816  42.788940   \n",
              "1296674  1995-08-16  8f7c8e4ab7f25875d753b422917c98c9  1371816817  46.565983   \n",
              "\n",
              "         merch_long  is_fraud  \n",
              "1296670 -111.690765         0  \n",
              "1296671  -78.246528         0  \n",
              "1296672 -105.130529         0  \n",
              "1296673 -103.241160         0  \n",
              "1296674 -114.186110         0  \n",
              "\n",
              "[5 rows x 23 columns]"
            ]
          },
          "execution_count": 4,
          "metadata": {},
          "output_type": "execute_result"
        }
      ],
      "source": [
        "# first 5 rows of the dataset\n",
        "credit_data.head()\n",
        "\n",
        "# last 5 rows of the dataset\n",
        "credit_data.tail()"
      ]
    },
    {
      "cell_type": "code",
      "execution_count": 5,
      "metadata": {
        "colab": {
          "base_uri": "https://localhost:8080/"
        },
        "id": "FJU-prQTIpsa",
        "outputId": "a1b71588-069b-4c7e-b1c4-f0582fdf5850"
      },
      "outputs": [
        {
          "name": "stdout",
          "output_type": "stream",
          "text": [
            "<class 'pandas.core.frame.DataFrame'>\n",
            "RangeIndex: 1296675 entries, 0 to 1296674\n",
            "Data columns (total 23 columns):\n",
            " #   Column                 Non-Null Count    Dtype  \n",
            "---  ------                 --------------    -----  \n",
            " 0   Unnamed: 0             1296675 non-null  int64  \n",
            " 1   trans_date_trans_time  1296675 non-null  object \n",
            " 2   cc_num                 1296675 non-null  int64  \n",
            " 3   merchant               1296675 non-null  object \n",
            " 4   category               1296675 non-null  object \n",
            " 5   amt                    1296675 non-null  float64\n",
            " 6   first                  1296675 non-null  object \n",
            " 7   last                   1296675 non-null  object \n",
            " 8   gender                 1296675 non-null  object \n",
            " 9   street                 1296675 non-null  object \n",
            " 10  city                   1296675 non-null  object \n",
            " 11  state                  1296675 non-null  object \n",
            " 12  zip                    1296675 non-null  int64  \n",
            " 13  lat                    1296675 non-null  float64\n",
            " 14  long                   1296675 non-null  float64\n",
            " 15  city_pop               1296675 non-null  int64  \n",
            " 16  job                    1296675 non-null  object \n",
            " 17  dob                    1296675 non-null  object \n",
            " 18  trans_num              1296675 non-null  object \n",
            " 19  unix_time              1296675 non-null  int64  \n",
            " 20  merch_lat              1296675 non-null  float64\n",
            " 21  merch_long             1296675 non-null  float64\n",
            " 22  is_fraud               1296675 non-null  int64  \n",
            "dtypes: float64(5), int64(6), object(12)\n",
            "memory usage: 227.5+ MB\n"
          ]
        }
      ],
      "source": [
        "# Getting info on the data n the data set\n",
        "credit_data.info()"
      ]
    },
    {
      "cell_type": "markdown",
      "metadata": {
        "id": "UPB3Av4KYqMD"
      },
      "source": [
        "Creating a function for Data Preprocessing"
      ]
    },
    {
      "cell_type": "code",
      "execution_count": 6,
      "metadata": {
        "id": "y45czQ59VSir"
      },
      "outputs": [],
      "source": [
        "def preprocessing(data) :\n",
        "  # deleting useless columns\n",
        "  del_col = ['merchant','first','last','street','zip','unix_time','Unnamed: 0','trans_num','cc_num']\n",
        "  data.drop(columns=del_col,inplace=True)\n",
        "\n",
        "  # converting data-time features from object type to Numerical value\n",
        "  data['trans_date_trans_time'] = pd.to_datetime(data['trans_date_trans_time'])\n",
        "  data['trans_date'] = data['trans_date_trans_time'].dt.strftime('%Y-%m-%d')\n",
        "  data['trans_date'] = pd.to_datetime(data['trans_date'])\n",
        "  data['dob'] = pd.to_datetime(data['dob'])\n",
        "\n",
        "  data[\"age\"] = (data[\"trans_date\"] - data[\"dob\"]).dt.days\n",
        "\n",
        "  data['trans_month'] = data['trans_date'].dt.month\n",
        "  data['trans_year'] = data['trans_date'].dt.year\n",
        "\n",
        "  # using one-hot encoding for categorical data features\n",
        "  data['gender'] = data['gender'].apply(lambda x : 1 if x=='M' else 0)\n",
        "  data['gender'] = data['gender'].astype(int)\n",
        "  data['lat_dis'] = abs(data['lat']-data['merch_lat'])\n",
        "  data['long_dis'] = abs(data['long']-data['merch_long'])\n",
        "  data = pd.get_dummies(data,columns=['category'])\n",
        "  data = data.drop(columns=['city','trans_date_trans_time','state','job','merch_lat','merch_long','lat','long','dob','trans_date'])\n",
        "\n",
        "  # returning the preprocessed dataset\n",
        "  return data"
      ]
    },
    {
      "cell_type": "code",
      "execution_count": 7,
      "metadata": {
        "id": "QB4SGx5DNfvt"
      },
      "outputs": [],
      "source": [
        "# performing data preprocessing on credit_data (Training Data) and test_data\n",
        "credit_data = preprocessing(credit_data.copy())\n",
        "test_data = preprocessing(test_data.copy())"
      ]
    },
    {
      "cell_type": "code",
      "execution_count": 8,
      "metadata": {
        "colab": {
          "base_uri": "https://localhost:8080/",
          "height": 255
        },
        "id": "qVWy45i_PVcD",
        "outputId": "982cd816-76da-4dc9-ac3e-7fced2feec49"
      },
      "outputs": [
        {
          "data": {
            "text/html": [
              "<div>\n",
              "<style scoped>\n",
              "    .dataframe tbody tr th:only-of-type {\n",
              "        vertical-align: middle;\n",
              "    }\n",
              "\n",
              "    .dataframe tbody tr th {\n",
              "        vertical-align: top;\n",
              "    }\n",
              "\n",
              "    .dataframe thead th {\n",
              "        text-align: right;\n",
              "    }\n",
              "</style>\n",
              "<table border=\"1\" class=\"dataframe\">\n",
              "  <thead>\n",
              "    <tr style=\"text-align: right;\">\n",
              "      <th></th>\n",
              "      <th>amt</th>\n",
              "      <th>gender</th>\n",
              "      <th>city_pop</th>\n",
              "      <th>is_fraud</th>\n",
              "      <th>age</th>\n",
              "      <th>trans_month</th>\n",
              "      <th>trans_year</th>\n",
              "      <th>lat_dis</th>\n",
              "      <th>long_dis</th>\n",
              "      <th>category_entertainment</th>\n",
              "      <th>...</th>\n",
              "      <th>category_grocery_pos</th>\n",
              "      <th>category_health_fitness</th>\n",
              "      <th>category_home</th>\n",
              "      <th>category_kids_pets</th>\n",
              "      <th>category_misc_net</th>\n",
              "      <th>category_misc_pos</th>\n",
              "      <th>category_personal_care</th>\n",
              "      <th>category_shopping_net</th>\n",
              "      <th>category_shopping_pos</th>\n",
              "      <th>category_travel</th>\n",
              "    </tr>\n",
              "  </thead>\n",
              "  <tbody>\n",
              "    <tr>\n",
              "      <th>0</th>\n",
              "      <td>4.97</td>\n",
              "      <td>0</td>\n",
              "      <td>3495</td>\n",
              "      <td>0</td>\n",
              "      <td>11255</td>\n",
              "      <td>1</td>\n",
              "      <td>2019</td>\n",
              "      <td>0.067507</td>\n",
              "      <td>0.870215</td>\n",
              "      <td>False</td>\n",
              "      <td>...</td>\n",
              "      <td>False</td>\n",
              "      <td>False</td>\n",
              "      <td>False</td>\n",
              "      <td>False</td>\n",
              "      <td>True</td>\n",
              "      <td>False</td>\n",
              "      <td>False</td>\n",
              "      <td>False</td>\n",
              "      <td>False</td>\n",
              "      <td>False</td>\n",
              "    </tr>\n",
              "    <tr>\n",
              "      <th>1</th>\n",
              "      <td>107.23</td>\n",
              "      <td>0</td>\n",
              "      <td>149</td>\n",
              "      <td>0</td>\n",
              "      <td>14804</td>\n",
              "      <td>1</td>\n",
              "      <td>2019</td>\n",
              "      <td>0.271247</td>\n",
              "      <td>0.024038</td>\n",
              "      <td>False</td>\n",
              "      <td>...</td>\n",
              "      <td>True</td>\n",
              "      <td>False</td>\n",
              "      <td>False</td>\n",
              "      <td>False</td>\n",
              "      <td>False</td>\n",
              "      <td>False</td>\n",
              "      <td>False</td>\n",
              "      <td>False</td>\n",
              "      <td>False</td>\n",
              "      <td>False</td>\n",
              "    </tr>\n",
              "    <tr>\n",
              "      <th>2</th>\n",
              "      <td>220.11</td>\n",
              "      <td>1</td>\n",
              "      <td>4154</td>\n",
              "      <td>0</td>\n",
              "      <td>20801</td>\n",
              "      <td>1</td>\n",
              "      <td>2019</td>\n",
              "      <td>0.969904</td>\n",
              "      <td>0.107519</td>\n",
              "      <td>True</td>\n",
              "      <td>...</td>\n",
              "      <td>False</td>\n",
              "      <td>False</td>\n",
              "      <td>False</td>\n",
              "      <td>False</td>\n",
              "      <td>False</td>\n",
              "      <td>False</td>\n",
              "      <td>False</td>\n",
              "      <td>False</td>\n",
              "      <td>False</td>\n",
              "      <td>False</td>\n",
              "    </tr>\n",
              "    <tr>\n",
              "      <th>3</th>\n",
              "      <td>45.00</td>\n",
              "      <td>1</td>\n",
              "      <td>1939</td>\n",
              "      <td>0</td>\n",
              "      <td>18982</td>\n",
              "      <td>1</td>\n",
              "      <td>2019</td>\n",
              "      <td>0.803731</td>\n",
              "      <td>0.447271</td>\n",
              "      <td>False</td>\n",
              "      <td>...</td>\n",
              "      <td>False</td>\n",
              "      <td>False</td>\n",
              "      <td>False</td>\n",
              "      <td>False</td>\n",
              "      <td>False</td>\n",
              "      <td>False</td>\n",
              "      <td>False</td>\n",
              "      <td>False</td>\n",
              "      <td>False</td>\n",
              "      <td>False</td>\n",
              "    </tr>\n",
              "    <tr>\n",
              "      <th>4</th>\n",
              "      <td>41.96</td>\n",
              "      <td>1</td>\n",
              "      <td>99</td>\n",
              "      <td>0</td>\n",
              "      <td>11967</td>\n",
              "      <td>1</td>\n",
              "      <td>2019</td>\n",
              "      <td>0.254299</td>\n",
              "      <td>0.830441</td>\n",
              "      <td>False</td>\n",
              "      <td>...</td>\n",
              "      <td>False</td>\n",
              "      <td>False</td>\n",
              "      <td>False</td>\n",
              "      <td>False</td>\n",
              "      <td>False</td>\n",
              "      <td>True</td>\n",
              "      <td>False</td>\n",
              "      <td>False</td>\n",
              "      <td>False</td>\n",
              "      <td>False</td>\n",
              "    </tr>\n",
              "  </tbody>\n",
              "</table>\n",
              "<p>5 rows × 23 columns</p>\n",
              "</div>"
            ],
            "text/plain": [
              "      amt  gender  city_pop  is_fraud    age  trans_month  trans_year  \\\n",
              "0    4.97       0      3495         0  11255            1        2019   \n",
              "1  107.23       0       149         0  14804            1        2019   \n",
              "2  220.11       1      4154         0  20801            1        2019   \n",
              "3   45.00       1      1939         0  18982            1        2019   \n",
              "4   41.96       1        99         0  11967            1        2019   \n",
              "\n",
              "    lat_dis  long_dis  category_entertainment  ...  category_grocery_pos  \\\n",
              "0  0.067507  0.870215                   False  ...                 False   \n",
              "1  0.271247  0.024038                   False  ...                  True   \n",
              "2  0.969904  0.107519                    True  ...                 False   \n",
              "3  0.803731  0.447271                   False  ...                 False   \n",
              "4  0.254299  0.830441                   False  ...                 False   \n",
              "\n",
              "   category_health_fitness  category_home  category_kids_pets  \\\n",
              "0                    False          False               False   \n",
              "1                    False          False               False   \n",
              "2                    False          False               False   \n",
              "3                    False          False               False   \n",
              "4                    False          False               False   \n",
              "\n",
              "   category_misc_net  category_misc_pos  category_personal_care  \\\n",
              "0               True              False                   False   \n",
              "1              False              False                   False   \n",
              "2              False              False                   False   \n",
              "3              False              False                   False   \n",
              "4              False               True                   False   \n",
              "\n",
              "   category_shopping_net  category_shopping_pos  category_travel  \n",
              "0                  False                  False            False  \n",
              "1                  False                  False            False  \n",
              "2                  False                  False            False  \n",
              "3                  False                  False            False  \n",
              "4                  False                  False            False  \n",
              "\n",
              "[5 rows x 23 columns]"
            ]
          },
          "execution_count": 8,
          "metadata": {},
          "output_type": "execute_result"
        }
      ],
      "source": [
        "# Checking data after preprocessing\n",
        "credit_data.head()"
      ]
    },
    {
      "cell_type": "code",
      "execution_count": 9,
      "metadata": {
        "colab": {
          "base_uri": "https://localhost:8080/"
        },
        "id": "le23VdFgPeIO",
        "outputId": "696c7af1-086f-4b61-dcba-a104ec2230a1"
      },
      "outputs": [
        {
          "name": "stdout",
          "output_type": "stream",
          "text": [
            "<class 'pandas.core.frame.DataFrame'>\n",
            "RangeIndex: 1296675 entries, 0 to 1296674\n",
            "Data columns (total 23 columns):\n",
            " #   Column                   Non-Null Count    Dtype  \n",
            "---  ------                   --------------    -----  \n",
            " 0   amt                      1296675 non-null  float64\n",
            " 1   gender                   1296675 non-null  int64  \n",
            " 2   city_pop                 1296675 non-null  int64  \n",
            " 3   is_fraud                 1296675 non-null  int64  \n",
            " 4   age                      1296675 non-null  int64  \n",
            " 5   trans_month              1296675 non-null  int32  \n",
            " 6   trans_year               1296675 non-null  int32  \n",
            " 7   lat_dis                  1296675 non-null  float64\n",
            " 8   long_dis                 1296675 non-null  float64\n",
            " 9   category_entertainment   1296675 non-null  bool   \n",
            " 10  category_food_dining     1296675 non-null  bool   \n",
            " 11  category_gas_transport   1296675 non-null  bool   \n",
            " 12  category_grocery_net     1296675 non-null  bool   \n",
            " 13  category_grocery_pos     1296675 non-null  bool   \n",
            " 14  category_health_fitness  1296675 non-null  bool   \n",
            " 15  category_home            1296675 non-null  bool   \n",
            " 16  category_kids_pets       1296675 non-null  bool   \n",
            " 17  category_misc_net        1296675 non-null  bool   \n",
            " 18  category_misc_pos        1296675 non-null  bool   \n",
            " 19  category_personal_care   1296675 non-null  bool   \n",
            " 20  category_shopping_net    1296675 non-null  bool   \n",
            " 21  category_shopping_pos    1296675 non-null  bool   \n",
            " 22  category_travel          1296675 non-null  bool   \n",
            "dtypes: bool(14), float64(3), int32(2), int64(4)\n",
            "memory usage: 96.5 MB\n"
          ]
        }
      ],
      "source": [
        "# Checking the data features, every feature is in numeric data type\n",
        "credit_data.info()"
      ]
    },
    {
      "cell_type": "code",
      "execution_count": 10,
      "metadata": {
        "id": "0G-yiml8LkzI"
      },
      "outputs": [],
      "source": [
        "# creating correlation matrix\n",
        "correlation_matrix = credit_data.corr()"
      ]
    },
    {
      "cell_type": "markdown",
      "metadata": {
        "id": "09USANDzZqDq"
      },
      "source": [
        "Importing Dependencies for Plotting the Correlation Matrix"
      ]
    },
    {
      "cell_type": "code",
      "execution_count": 12,
      "metadata": {
        "id": "jMI6i6W9Zx3P"
      },
      "outputs": [],
      "source": [
        "import seaborn as sns\n",
        "import matplotlib.pyplot as plt"
      ]
    },
    {
      "cell_type": "code",
      "execution_count": 13,
      "metadata": {
        "colab": {
          "base_uri": "https://localhost:8080/",
          "height": 1000
        },
        "id": "8Sm75TjRLye7",
        "outputId": "213fd725-05f9-46cd-ffed-e88fb098e9fd"
      },
      "outputs": [
        {
          "data": {
            "image/png": "[encoded data removed]",
            "text/plain": [
              "<Figure size 1400x1400 with 2 Axes>"
            ]
          },
          "metadata": {},
          "output_type": "display_data"
        }
      ],
      "source": [
        "# plotting the correation matrix\n",
        "plt.figure(figsize=(14, 14))\n",
        "sns.heatmap(correlation_matrix, annot=True, cmap='coolwarm', fmt='.2f', linewidths=.5)\n",
        "plt.title('Correlation Matrix')\n",
        "plt.show()\n",
        "\n",
        "# Observation : All the data features have low correlation making every fature less and equally important for the prediction,\n",
        "# except the amount of transaction (amt)"
      ]
    },
    {
      "cell_type": "code",
      "execution_count": 14,
      "metadata": {
        "colab": {
          "base_uri": "https://localhost:8080/"
        },
        "id": "69hLvcLSI2kA",
        "outputId": "368b3ed8-e7e3-4071-a5d9-7d28d05f6f18"
      },
      "outputs": [
        {
          "data": {
            "text/plain": [
              "is_fraud\n",
              "0    1289169\n",
              "1       7506\n",
              "Name: count, dtype: int64"
            ]
          },
          "execution_count": 14,
          "metadata": {},
          "output_type": "execute_result"
        }
      ],
      "source": [
        "# Counting the number of legit and fraud transaction data in dataset\n",
        "credit_data['is_fraud'].value_counts()"
      ]
    },
    {
      "cell_type": "code",
      "execution_count": 15,
      "metadata": {
        "id": "MQe8wkReJJoC"
      },
      "outputs": [],
      "source": [
        "# separating the data for analysis\n",
        "legit = credit_data[credit_data.is_fraud == 0]\n",
        "fraud = credit_data[credit_data.is_fraud == 1]"
      ]
    },
    {
      "cell_type": "code",
      "execution_count": 16,
      "metadata": {
        "colab": {
          "base_uri": "https://localhost:8080/"
        },
        "id": "ePQ8dT6XJZ0S",
        "outputId": "fe1c086f-9ba4-41a6-91e3-9bf085b9d785"
      },
      "outputs": [
        {
          "name": "stdout",
          "output_type": "stream",
          "text": [
            "(1289169, 23)\n",
            "(7506, 23)\n"
          ]
        }
      ],
      "source": [
        "# priting their shape\n",
        "print(legit.shape)\n",
        "print(fraud.shape)"
      ]
    },
    {
      "cell_type": "code",
      "execution_count": 17,
      "metadata": {
        "colab": {
          "base_uri": "https://localhost:8080/"
        },
        "id": "ejpHnI1eJn6p",
        "outputId": "f82cc46f-a215-4cf2-a9e9-3d126557f261"
      },
      "outputs": [
        {
          "data": {
            "text/plain": [
              "count    1.289169e+06\n",
              "mean     6.766711e+01\n",
              "std      1.540080e+02\n",
              "min      1.000000e+00\n",
              "25%      9.610000e+00\n",
              "50%      4.728000e+01\n",
              "75%      8.254000e+01\n",
              "max      2.894890e+04\n",
              "Name: amt, dtype: float64"
            ]
          },
          "execution_count": 17,
          "metadata": {},
          "output_type": "execute_result"
        }
      ],
      "source": [
        "# statistical measures of the legit transaction data\n",
        "legit.amt.describe()"
      ]
    },
    {
      "cell_type": "code",
      "execution_count": 18,
      "metadata": {
        "colab": {
          "base_uri": "https://localhost:8080/"
        },
        "id": "zLu91a78J1Ps",
        "outputId": "3b90365a-f859-43d9-b1b9-cb0e15f6411e"
      },
      "outputs": [
        {
          "data": {
            "text/plain": [
              "count    7506.000000\n",
              "mean      531.320092\n",
              "std       390.560070\n",
              "min         1.060000\n",
              "25%       245.662500\n",
              "50%       396.505000\n",
              "75%       900.875000\n",
              "max      1376.040000\n",
              "Name: amt, dtype: float64"
            ]
          },
          "execution_count": 18,
          "metadata": {},
          "output_type": "execute_result"
        }
      ],
      "source": [
        "# statistical measures of the frad transaction data\n",
        "fraud.amt.describe()"
      ]
    },
    {
      "cell_type": "code",
      "execution_count": 19,
      "metadata": {
        "colab": {
          "base_uri": "https://localhost:8080/",
          "height": 193
        },
        "id": "SySrnjtDJ9ea",
        "outputId": "f57822b1-9073-4f4a-f4af-bfcd83dec968"
      },
      "outputs": [
        {
          "data": {
            "text/html": [
              "<div>\n",
              "<style scoped>\n",
              "    .dataframe tbody tr th:only-of-type {\n",
              "        vertical-align: middle;\n",
              "    }\n",
              "\n",
              "    .dataframe tbody tr th {\n",
              "        vertical-align: top;\n",
              "    }\n",
              "\n",
              "    .dataframe thead th {\n",
              "        text-align: right;\n",
              "    }\n",
              "</style>\n",
              "<table border=\"1\" class=\"dataframe\">\n",
              "  <thead>\n",
              "    <tr style=\"text-align: right;\">\n",
              "      <th></th>\n",
              "      <th>amt</th>\n",
              "      <th>gender</th>\n",
              "      <th>city_pop</th>\n",
              "      <th>age</th>\n",
              "      <th>trans_month</th>\n",
              "      <th>trans_year</th>\n",
              "      <th>lat_dis</th>\n",
              "      <th>long_dis</th>\n",
              "      <th>category_entertainment</th>\n",
              "      <th>category_food_dining</th>\n",
              "      <th>...</th>\n",
              "      <th>category_grocery_pos</th>\n",
              "      <th>category_health_fitness</th>\n",
              "      <th>category_home</th>\n",
              "      <th>category_kids_pets</th>\n",
              "      <th>category_misc_net</th>\n",
              "      <th>category_misc_pos</th>\n",
              "      <th>category_personal_care</th>\n",
              "      <th>category_shopping_net</th>\n",
              "      <th>category_shopping_pos</th>\n",
              "      <th>category_travel</th>\n",
              "    </tr>\n",
              "    <tr>\n",
              "      <th>is_fraud</th>\n",
              "      <th></th>\n",
              "      <th></th>\n",
              "      <th></th>\n",
              "      <th></th>\n",
              "      <th></th>\n",
              "      <th></th>\n",
              "      <th></th>\n",
              "      <th></th>\n",
              "      <th></th>\n",
              "      <th></th>\n",
              "      <th></th>\n",
              "      <th></th>\n",
              "      <th></th>\n",
              "      <th></th>\n",
              "      <th></th>\n",
              "      <th></th>\n",
              "      <th></th>\n",
              "      <th></th>\n",
              "      <th></th>\n",
              "      <th></th>\n",
              "      <th></th>\n",
              "    </tr>\n",
              "  </thead>\n",
              "  <tbody>\n",
              "    <tr>\n",
              "      <th>0</th>\n",
              "      <td>67.667110</td>\n",
              "      <td>0.452261</td>\n",
              "      <td>88775.228137</td>\n",
              "      <td>16794.236578</td>\n",
              "      <td>6.145386</td>\n",
              "      <td>2019.286649</td>\n",
              "      <td>0.500249</td>\n",
              "      <td>0.500341</td>\n",
              "      <td>0.072745</td>\n",
              "      <td>0.070829</td>\n",
              "      <td>...</td>\n",
              "      <td>0.094553</td>\n",
              "      <td>0.066513</td>\n",
              "      <td>0.095346</td>\n",
              "      <td>0.087495</td>\n",
              "      <td>0.048382</td>\n",
              "      <td>0.061594</td>\n",
              "      <td>0.07023</td>\n",
              "      <td>0.074335</td>\n",
              "      <td>0.089848</td>\n",
              "      <td>0.031331</td>\n",
              "    </tr>\n",
              "    <tr>\n",
              "      <th>1</th>\n",
              "      <td>531.320092</td>\n",
              "      <td>0.502398</td>\n",
              "      <td>97276.763256</td>\n",
              "      <td>17821.821876</td>\n",
              "      <td>5.586331</td>\n",
              "      <td>2019.304556</td>\n",
              "      <td>0.502739</td>\n",
              "      <td>0.499577</td>\n",
              "      <td>0.031042</td>\n",
              "      <td>0.020117</td>\n",
              "      <td>...</td>\n",
              "      <td>0.232214</td>\n",
              "      <td>0.017719</td>\n",
              "      <td>0.026379</td>\n",
              "      <td>0.031841</td>\n",
              "      <td>0.121902</td>\n",
              "      <td>0.033307</td>\n",
              "      <td>0.02931</td>\n",
              "      <td>0.228217</td>\n",
              "      <td>0.112310</td>\n",
              "      <td>0.015454</td>\n",
              "    </tr>\n",
              "  </tbody>\n",
              "</table>\n",
              "<p>2 rows × 22 columns</p>\n",
              "</div>"
            ],
            "text/plain": [
              "                 amt    gender      city_pop           age  trans_month  \\\n",
              "is_fraud                                                                  \n",
              "0          67.667110  0.452261  88775.228137  16794.236578     6.145386   \n",
              "1         531.320092  0.502398  97276.763256  17821.821876     5.586331   \n",
              "\n",
              "           trans_year   lat_dis  long_dis  category_entertainment  \\\n",
              "is_fraud                                                            \n",
              "0         2019.286649  0.500249  0.500341                0.072745   \n",
              "1         2019.304556  0.502739  0.499577                0.031042   \n",
              "\n",
              "          category_food_dining  ...  category_grocery_pos  \\\n",
              "is_fraud                        ...                         \n",
              "0                     0.070829  ...              0.094553   \n",
              "1                     0.020117  ...              0.232214   \n",
              "\n",
              "          category_health_fitness  category_home  category_kids_pets  \\\n",
              "is_fraud                                                               \n",
              "0                        0.066513       0.095346            0.087495   \n",
              "1                        0.017719       0.026379            0.031841   \n",
              "\n",
              "          category_misc_net  category_misc_pos  category_personal_care  \\\n",
              "is_fraud                                                                 \n",
              "0                  0.048382           0.061594                 0.07023   \n",
              "1                  0.121902           0.033307                 0.02931   \n",
              "\n",
              "          category_shopping_net  category_shopping_pos  category_travel  \n",
              "is_fraud                                                                 \n",
              "0                      0.074335               0.089848         0.031331  \n",
              "1                      0.228217               0.112310         0.015454  \n",
              "\n",
              "[2 rows x 22 columns]"
            ]
          },
          "execution_count": 19,
          "metadata": {},
          "output_type": "execute_result"
        }
      ],
      "source": [
        "# compare the values for both transactions\n",
        "credit_data.groupby('is_fraud').mean()"
      ]
    },
    {
      "cell_type": "code",
      "execution_count": 20,
      "metadata": {
        "id": "AJrH1jC9KNOT"
      },
      "outputs": [],
      "source": [
        "# creating a sample legit data set of same size as that of fraud dataset\n",
        "legit_sample = legit.sample(n=7506)"
      ]
    },
    {
      "cell_type": "code",
      "execution_count": 21,
      "metadata": {
        "id": "LStAqKZbKYfw"
      },
      "outputs": [],
      "source": [
        "# joining the legit and fraud data set\n",
        "new_dataset = pd.concat([legit_sample, fraud], axis=0)"
      ]
    },
    {
      "cell_type": "code",
      "execution_count": 22,
      "metadata": {
        "colab": {
          "base_uri": "https://localhost:8080/",
          "height": 255
        },
        "id": "rwa_odLRKbs-",
        "outputId": "44c2b94a-5988-43f2-a4c7-8353b79bacb0"
      },
      "outputs": [
        {
          "data": {
            "text/html": [
              "<div>\n",
              "<style scoped>\n",
              "    .dataframe tbody tr th:only-of-type {\n",
              "        vertical-align: middle;\n",
              "    }\n",
              "\n",
              "    .dataframe tbody tr th {\n",
              "        vertical-align: top;\n",
              "    }\n",
              "\n",
              "    .dataframe thead th {\n",
              "        text-align: right;\n",
              "    }\n",
              "</style>\n",
              "<table border=\"1\" class=\"dataframe\">\n",
              "  <thead>\n",
              "    <tr style=\"text-align: right;\">\n",
              "      <th></th>\n",
              "      <th>amt</th>\n",
              "      <th>gender</th>\n",
              "      <th>city_pop</th>\n",
              "      <th>is_fraud</th>\n",
              "      <th>age</th>\n",
              "      <th>trans_month</th>\n",
              "      <th>trans_year</th>\n",
              "      <th>lat_dis</th>\n",
              "      <th>long_dis</th>\n",
              "      <th>category_entertainment</th>\n",
              "      <th>...</th>\n",
              "      <th>category_grocery_pos</th>\n",
              "      <th>category_health_fitness</th>\n",
              "      <th>category_home</th>\n",
              "      <th>category_kids_pets</th>\n",
              "      <th>category_misc_net</th>\n",
              "      <th>category_misc_pos</th>\n",
              "      <th>category_personal_care</th>\n",
              "      <th>category_shopping_net</th>\n",
              "      <th>category_shopping_pos</th>\n",
              "      <th>category_travel</th>\n",
              "    </tr>\n",
              "  </thead>\n",
              "  <tbody>\n",
              "    <tr>\n",
              "      <th>254176</th>\n",
              "      <td>24.62</td>\n",
              "      <td>1</td>\n",
              "      <td>757530</td>\n",
              "      <td>0</td>\n",
              "      <td>19222</td>\n",
              "      <td>5</td>\n",
              "      <td>2019</td>\n",
              "      <td>0.560848</td>\n",
              "      <td>0.608842</td>\n",
              "      <td>False</td>\n",
              "      <td>...</td>\n",
              "      <td>False</td>\n",
              "      <td>True</td>\n",
              "      <td>False</td>\n",
              "      <td>False</td>\n",
              "      <td>False</td>\n",
              "      <td>False</td>\n",
              "      <td>False</td>\n",
              "      <td>False</td>\n",
              "      <td>False</td>\n",
              "      <td>False</td>\n",
              "    </tr>\n",
              "    <tr>\n",
              "      <th>327118</th>\n",
              "      <td>2.35</td>\n",
              "      <td>1</td>\n",
              "      <td>7430</td>\n",
              "      <td>0</td>\n",
              "      <td>23519</td>\n",
              "      <td>6</td>\n",
              "      <td>2019</td>\n",
              "      <td>0.068541</td>\n",
              "      <td>0.714068</td>\n",
              "      <td>False</td>\n",
              "      <td>...</td>\n",
              "      <td>False</td>\n",
              "      <td>False</td>\n",
              "      <td>False</td>\n",
              "      <td>False</td>\n",
              "      <td>False</td>\n",
              "      <td>False</td>\n",
              "      <td>False</td>\n",
              "      <td>False</td>\n",
              "      <td>True</td>\n",
              "      <td>False</td>\n",
              "    </tr>\n",
              "    <tr>\n",
              "      <th>457759</th>\n",
              "      <td>55.38</td>\n",
              "      <td>0</td>\n",
              "      <td>443</td>\n",
              "      <td>0</td>\n",
              "      <td>26304</td>\n",
              "      <td>7</td>\n",
              "      <td>2019</td>\n",
              "      <td>0.010375</td>\n",
              "      <td>0.839470</td>\n",
              "      <td>False</td>\n",
              "      <td>...</td>\n",
              "      <td>False</td>\n",
              "      <td>False</td>\n",
              "      <td>False</td>\n",
              "      <td>True</td>\n",
              "      <td>False</td>\n",
              "      <td>False</td>\n",
              "      <td>False</td>\n",
              "      <td>False</td>\n",
              "      <td>False</td>\n",
              "      <td>False</td>\n",
              "    </tr>\n",
              "    <tr>\n",
              "      <th>986990</th>\n",
              "      <td>105.46</td>\n",
              "      <td>0</td>\n",
              "      <td>630</td>\n",
              "      <td>0</td>\n",
              "      <td>22106</td>\n",
              "      <td>2</td>\n",
              "      <td>2020</td>\n",
              "      <td>0.227283</td>\n",
              "      <td>0.173421</td>\n",
              "      <td>False</td>\n",
              "      <td>...</td>\n",
              "      <td>False</td>\n",
              "      <td>False</td>\n",
              "      <td>True</td>\n",
              "      <td>False</td>\n",
              "      <td>False</td>\n",
              "      <td>False</td>\n",
              "      <td>False</td>\n",
              "      <td>False</td>\n",
              "      <td>False</td>\n",
              "      <td>False</td>\n",
              "    </tr>\n",
              "    <tr>\n",
              "      <th>280939</th>\n",
              "      <td>133.24</td>\n",
              "      <td>1</td>\n",
              "      <td>2443</td>\n",
              "      <td>0</td>\n",
              "      <td>28339</td>\n",
              "      <td>5</td>\n",
              "      <td>2019</td>\n",
              "      <td>0.005879</td>\n",
              "      <td>0.773936</td>\n",
              "      <td>False</td>\n",
              "      <td>...</td>\n",
              "      <td>True</td>\n",
              "      <td>False</td>\n",
              "      <td>False</td>\n",
              "      <td>False</td>\n",
              "      <td>False</td>\n",
              "      <td>False</td>\n",
              "      <td>False</td>\n",
              "      <td>False</td>\n",
              "      <td>False</td>\n",
              "      <td>False</td>\n",
              "    </tr>\n",
              "  </tbody>\n",
              "</table>\n",
              "<p>5 rows × 23 columns</p>\n",
              "</div>"
            ],
            "text/plain": [
              "           amt  gender  city_pop  is_fraud    age  trans_month  trans_year  \\\n",
              "254176   24.62       1    757530         0  19222            5        2019   \n",
              "327118    2.35       1      7430         0  23519            6        2019   \n",
              "457759   55.38       0       443         0  26304            7        2019   \n",
              "986990  105.46       0       630         0  22106            2        2020   \n",
              "280939  133.24       1      2443         0  28339            5        2019   \n",
              "\n",
              "         lat_dis  long_dis  category_entertainment  ...  category_grocery_pos  \\\n",
              "254176  0.560848  0.608842                   False  ...                 False   \n",
              "327118  0.068541  0.714068                   False  ...                 False   \n",
              "457759  0.010375  0.839470                   False  ...                 False   \n",
              "986990  0.227283  0.173421                   False  ...                 False   \n",
              "280939  0.005879  0.773936                   False  ...                  True   \n",
              "\n",
              "        category_health_fitness  category_home  category_kids_pets  \\\n",
              "254176                     True          False               False   \n",
              "327118                    False          False               False   \n",
              "457759                    False          False                True   \n",
              "986990                    False           True               False   \n",
              "280939                    False          False               False   \n",
              "\n",
              "        category_misc_net  category_misc_pos  category_personal_care  \\\n",
              "254176              False              False                   False   \n",
              "327118              False              False                   False   \n",
              "457759              False              False                   False   \n",
              "986990              False              False                   False   \n",
              "280939              False              False                   False   \n",
              "\n",
              "        category_shopping_net  category_shopping_pos  category_travel  \n",
              "254176                  False                  False            False  \n",
              "327118                  False                   True            False  \n",
              "457759                  False                  False            False  \n",
              "986990                  False                  False            False  \n",
              "280939                  False                  False            False  \n",
              "\n",
              "[5 rows x 23 columns]"
            ]
          },
          "execution_count": 22,
          "metadata": {},
          "output_type": "execute_result"
        }
      ],
      "source": [
        "# checking the new dataset\n",
        "new_dataset.head()"
      ]
    },
    {
      "cell_type": "code",
      "execution_count": 23,
      "metadata": {
        "colab": {
          "base_uri": "https://localhost:8080/",
          "height": 255
        },
        "id": "RCmLMMpZKePs",
        "outputId": "0fb66b91-dd56-4825-d139-602bababf6f6"
      },
      "outputs": [
        {
          "data": {
            "text/html": [
              "<div>\n",
              "<style scoped>\n",
              "    .dataframe tbody tr th:only-of-type {\n",
              "        vertical-align: middle;\n",
              "    }\n",
              "\n",
              "    .dataframe tbody tr th {\n",
              "        vertical-align: top;\n",
              "    }\n",
              "\n",
              "    .dataframe thead th {\n",
              "        text-align: right;\n",
              "    }\n",
              "</style>\n",
              "<table border=\"1\" class=\"dataframe\">\n",
              "  <thead>\n",
              "    <tr style=\"text-align: right;\">\n",
              "      <th></th>\n",
              "      <th>amt</th>\n",
              "      <th>gender</th>\n",
              "      <th>city_pop</th>\n",
              "      <th>is_fraud</th>\n",
              "      <th>age</th>\n",
              "      <th>trans_month</th>\n",
              "      <th>trans_year</th>\n",
              "      <th>lat_dis</th>\n",
              "      <th>long_dis</th>\n",
              "      <th>category_entertainment</th>\n",
              "      <th>...</th>\n",
              "      <th>category_grocery_pos</th>\n",
              "      <th>category_health_fitness</th>\n",
              "      <th>category_home</th>\n",
              "      <th>category_kids_pets</th>\n",
              "      <th>category_misc_net</th>\n",
              "      <th>category_misc_pos</th>\n",
              "      <th>category_personal_care</th>\n",
              "      <th>category_shopping_net</th>\n",
              "      <th>category_shopping_pos</th>\n",
              "      <th>category_travel</th>\n",
              "    </tr>\n",
              "  </thead>\n",
              "  <tbody>\n",
              "    <tr>\n",
              "      <th>1295399</th>\n",
              "      <td>977.01</td>\n",
              "      <td>0</td>\n",
              "      <td>105638</td>\n",
              "      <td>1</td>\n",
              "      <td>12464</td>\n",
              "      <td>6</td>\n",
              "      <td>2020</td>\n",
              "      <td>0.744314</td>\n",
              "      <td>0.431289</td>\n",
              "      <td>False</td>\n",
              "      <td>...</td>\n",
              "      <td>False</td>\n",
              "      <td>False</td>\n",
              "      <td>False</td>\n",
              "      <td>False</td>\n",
              "      <td>False</td>\n",
              "      <td>False</td>\n",
              "      <td>False</td>\n",
              "      <td>True</td>\n",
              "      <td>False</td>\n",
              "      <td>False</td>\n",
              "    </tr>\n",
              "    <tr>\n",
              "      <th>1295491</th>\n",
              "      <td>1210.91</td>\n",
              "      <td>0</td>\n",
              "      <td>105638</td>\n",
              "      <td>1</td>\n",
              "      <td>12464</td>\n",
              "      <td>6</td>\n",
              "      <td>2020</td>\n",
              "      <td>0.583707</td>\n",
              "      <td>0.547452</td>\n",
              "      <td>False</td>\n",
              "      <td>...</td>\n",
              "      <td>False</td>\n",
              "      <td>False</td>\n",
              "      <td>False</td>\n",
              "      <td>False</td>\n",
              "      <td>False</td>\n",
              "      <td>False</td>\n",
              "      <td>False</td>\n",
              "      <td>True</td>\n",
              "      <td>False</td>\n",
              "      <td>False</td>\n",
              "    </tr>\n",
              "    <tr>\n",
              "      <th>1295532</th>\n",
              "      <td>10.24</td>\n",
              "      <td>1</td>\n",
              "      <td>71335</td>\n",
              "      <td>1</td>\n",
              "      <td>9518</td>\n",
              "      <td>6</td>\n",
              "      <td>2020</td>\n",
              "      <td>0.758544</td>\n",
              "      <td>0.458932</td>\n",
              "      <td>False</td>\n",
              "      <td>...</td>\n",
              "      <td>False</td>\n",
              "      <td>False</td>\n",
              "      <td>False</td>\n",
              "      <td>False</td>\n",
              "      <td>False</td>\n",
              "      <td>False</td>\n",
              "      <td>False</td>\n",
              "      <td>False</td>\n",
              "      <td>False</td>\n",
              "      <td>False</td>\n",
              "    </tr>\n",
              "    <tr>\n",
              "      <th>1295666</th>\n",
              "      <td>21.69</td>\n",
              "      <td>0</td>\n",
              "      <td>23</td>\n",
              "      <td>1</td>\n",
              "      <td>18542</td>\n",
              "      <td>6</td>\n",
              "      <td>2020</td>\n",
              "      <td>0.815372</td>\n",
              "      <td>0.743649</td>\n",
              "      <td>False</td>\n",
              "      <td>...</td>\n",
              "      <td>False</td>\n",
              "      <td>False</td>\n",
              "      <td>False</td>\n",
              "      <td>False</td>\n",
              "      <td>False</td>\n",
              "      <td>False</td>\n",
              "      <td>False</td>\n",
              "      <td>False</td>\n",
              "      <td>False</td>\n",
              "      <td>False</td>\n",
              "    </tr>\n",
              "    <tr>\n",
              "      <th>1295733</th>\n",
              "      <td>10.20</td>\n",
              "      <td>1</td>\n",
              "      <td>71335</td>\n",
              "      <td>1</td>\n",
              "      <td>9518</td>\n",
              "      <td>6</td>\n",
              "      <td>2020</td>\n",
              "      <td>0.904252</td>\n",
              "      <td>0.970391</td>\n",
              "      <td>False</td>\n",
              "      <td>...</td>\n",
              "      <td>False</td>\n",
              "      <td>False</td>\n",
              "      <td>False</td>\n",
              "      <td>False</td>\n",
              "      <td>False</td>\n",
              "      <td>False</td>\n",
              "      <td>False</td>\n",
              "      <td>False</td>\n",
              "      <td>False</td>\n",
              "      <td>False</td>\n",
              "    </tr>\n",
              "  </tbody>\n",
              "</table>\n",
              "<p>5 rows × 23 columns</p>\n",
              "</div>"
            ],
            "text/plain": [
              "             amt  gender  city_pop  is_fraud    age  trans_month  trans_year  \\\n",
              "1295399   977.01       0    105638         1  12464            6        2020   \n",
              "1295491  1210.91       0    105638         1  12464            6        2020   \n",
              "1295532    10.24       1     71335         1   9518            6        2020   \n",
              "1295666    21.69       0        23         1  18542            6        2020   \n",
              "1295733    10.20       1     71335         1   9518            6        2020   \n",
              "\n",
              "          lat_dis  long_dis  category_entertainment  ...  \\\n",
              "1295399  0.744314  0.431289                   False  ...   \n",
              "1295491  0.583707  0.547452                   False  ...   \n",
              "1295532  0.758544  0.458932                   False  ...   \n",
              "1295666  0.815372  0.743649                   False  ...   \n",
              "1295733  0.904252  0.970391                   False  ...   \n",
              "\n",
              "         category_grocery_pos  category_health_fitness  category_home  \\\n",
              "1295399                 False                    False          False   \n",
              "1295491                 False                    False          False   \n",
              "1295532                 False                    False          False   \n",
              "1295666                 False                    False          False   \n",
              "1295733                 False                    False          False   \n",
              "\n",
              "         category_kids_pets  category_misc_net  category_misc_pos  \\\n",
              "1295399               False              False              False   \n",
              "1295491               False              False              False   \n",
              "1295532               False              False              False   \n",
              "1295666               False              False              False   \n",
              "1295733               False              False              False   \n",
              "\n",
              "         category_personal_care  category_shopping_net  category_shopping_pos  \\\n",
              "1295399                   False                   True                  False   \n",
              "1295491                   False                   True                  False   \n",
              "1295532                   False                  False                  False   \n",
              "1295666                   False                  False                  False   \n",
              "1295733                   False                  False                  False   \n",
              "\n",
              "         category_travel  \n",
              "1295399            False  \n",
              "1295491            False  \n",
              "1295532            False  \n",
              "1295666            False  \n",
              "1295733            False  \n",
              "\n",
              "[5 rows x 23 columns]"
            ]
          },
          "execution_count": 23,
          "metadata": {},
          "output_type": "execute_result"
        }
      ],
      "source": [
        "new_dataset.tail()"
      ]
    },
    {
      "cell_type": "code",
      "execution_count": 24,
      "metadata": {
        "colab": {
          "base_uri": "https://localhost:8080/"
        },
        "id": "dcEOjIcmKjOY",
        "outputId": "726c1052-3ccc-4155-a46f-e82329e6bfd8"
      },
      "outputs": [
        {
          "data": {
            "text/plain": [
              "is_fraud\n",
              "0    7506\n",
              "1    7506\n",
              "Name: count, dtype: int64"
            ]
          },
          "execution_count": 24,
          "metadata": {},
          "output_type": "execute_result"
        }
      ],
      "source": [
        "# checking the count of legit and fraud transaction datasets in new dataset\n",
        "new_dataset['is_fraud'].value_counts()"
      ]
    },
    {
      "cell_type": "code",
      "execution_count": 25,
      "metadata": {
        "id": "Z0xx8v03Kn8O"
      },
      "outputs": [],
      "source": [
        "# separating the target and features\n",
        "X_train = new_dataset.drop(columns='is_fraud', axis=1)\n",
        "Y_train = new_dataset['is_fraud']\n",
        "\n",
        "X_test = test_data.drop(columns='is_fraud', axis=1)\n",
        "Y_test = test_data['is_fraud']"
      ]
    },
    {
      "cell_type": "code",
      "execution_count": 26,
      "metadata": {
        "colab": {
          "base_uri": "https://localhost:8080/"
        },
        "id": "y_G4oyutKylp",
        "outputId": "69889414-e623-49da-c38a-cf9796aec428"
      },
      "outputs": [
        {
          "name": "stdout",
          "output_type": "stream",
          "text": [
            "             amt  gender  city_pop    age  trans_month  trans_year   lat_dis  \\\n",
            "254176     24.62       1    757530  19222            5        2019  0.560848   \n",
            "327118      2.35       1      7430  23519            6        2019  0.068541   \n",
            "457759     55.38       0       443  26304            7        2019  0.010375   \n",
            "986990    105.46       0       630  22106            2        2020  0.227283   \n",
            "280939    133.24       1      2443  28339            5        2019  0.005879   \n",
            "...          ...     ...       ...    ...          ...         ...       ...   \n",
            "1295399   977.01       0    105638  12464            6        2020  0.744314   \n",
            "1295491  1210.91       0    105638  12464            6        2020  0.583707   \n",
            "1295532    10.24       1     71335   9518            6        2020  0.758544   \n",
            "1295666    21.69       0        23  18542            6        2020  0.815372   \n",
            "1295733    10.20       1     71335   9518            6        2020  0.904252   \n",
            "\n",
            "         long_dis  category_entertainment  category_food_dining  ...  \\\n",
            "254176   0.608842                   False                 False  ...   \n",
            "327118   0.714068                   False                 False  ...   \n",
            "457759   0.839470                   False                 False  ...   \n",
            "986990   0.173421                   False                 False  ...   \n",
            "280939   0.773936                   False                 False  ...   \n",
            "...           ...                     ...                   ...  ...   \n",
            "1295399  0.431289                   False                 False  ...   \n",
            "1295491  0.547452                   False                 False  ...   \n",
            "1295532  0.458932                   False                 False  ...   \n",
            "1295666  0.743649                   False                 False  ...   \n",
            "1295733  0.970391                   False                 False  ...   \n",
            "\n",
            "         category_grocery_pos  category_health_fitness  category_home  \\\n",
            "254176                  False                     True          False   \n",
            "327118                  False                    False          False   \n",
            "457759                  False                    False          False   \n",
            "986990                  False                    False           True   \n",
            "280939                   True                    False          False   \n",
            "...                       ...                      ...            ...   \n",
            "1295399                 False                    False          False   \n",
            "1295491                 False                    False          False   \n",
            "1295532                 False                    False          False   \n",
            "1295666                 False                    False          False   \n",
            "1295733                 False                    False          False   \n",
            "\n",
            "         category_kids_pets  category_misc_net  category_misc_pos  \\\n",
            "254176                False              False              False   \n",
            "327118                False              False              False   \n",
            "457759                 True              False              False   \n",
            "986990                False              False              False   \n",
            "280939                False              False              False   \n",
            "...                     ...                ...                ...   \n",
            "1295399               False              False              False   \n",
            "1295491               False              False              False   \n",
            "1295532               False              False              False   \n",
            "1295666               False              False              False   \n",
            "1295733               False              False              False   \n",
            "\n",
            "         category_personal_care  category_shopping_net  category_shopping_pos  \\\n",
            "254176                    False                  False                  False   \n",
            "327118                    False                  False                   True   \n",
            "457759                    False                  False                  False   \n",
            "986990                    False                  False                  False   \n",
            "280939                    False                  False                  False   \n",
            "...                         ...                    ...                    ...   \n",
            "1295399                   False                   True                  False   \n",
            "1295491                   False                   True                  False   \n",
            "1295532                   False                  False                  False   \n",
            "1295666                   False                  False                  False   \n",
            "1295733                   False                  False                  False   \n",
            "\n",
            "         category_travel  \n",
            "254176             False  \n",
            "327118             False  \n",
            "457759             False  \n",
            "986990             False  \n",
            "280939             False  \n",
            "...                  ...  \n",
            "1295399            False  \n",
            "1295491            False  \n",
            "1295532            False  \n",
            "1295666            False  \n",
            "1295733            False  \n",
            "\n",
            "[15012 rows x 22 columns]\n"
          ]
        }
      ],
      "source": [
        "# printing the features\n",
        "print(X_train)"
      ]
    },
    {
      "cell_type": "code",
      "execution_count": 27,
      "metadata": {
        "colab": {
          "base_uri": "https://localhost:8080/"
        },
        "id": "_Uow3IopK13s",
        "outputId": "592d93af-b7b5-4879-9e0e-84abe469edcb"
      },
      "outputs": [
        {
          "name": "stdout",
          "output_type": "stream",
          "text": [
            "254176     0\n",
            "327118     0\n",
            "457759     0\n",
            "986990     0\n",
            "280939     0\n",
            "          ..\n",
            "1295399    1\n",
            "1295491    1\n",
            "1295532    1\n",
            "1295666    1\n",
            "1295733    1\n",
            "Name: is_fraud, Length: 15012, dtype: int64\n"
          ]
        }
      ],
      "source": [
        "# printing the target\n",
        "print(Y_train)"
      ]
    },
    {
      "cell_type": "code",
      "execution_count": 28,
      "metadata": {
        "colab": {
          "base_uri": "https://localhost:8080/"
        },
        "id": "81lJt2p3buuu",
        "outputId": "6b1f3f33-f60f-4729-cc81-5351a11de143"
      },
      "outputs": [
        {
          "name": "stdout",
          "output_type": "stream",
          "text": [
            "           amt  gender  city_pop    age  trans_month  trans_year   lat_dis  \\\n",
            "0         2.86       1    333497  19087            6        2020  0.020491   \n",
            "1        29.84       0       302  11113            6        2020  0.870202   \n",
            "2        41.28       0     34496  18141            6        2020  0.177090   \n",
            "3        60.05       1     54767  12020            6        2020  0.242698   \n",
            "4         3.19       1      1126  23727            6        2020  0.706248   \n",
            "...        ...     ...       ...    ...          ...         ...       ...   \n",
            "555714   43.77       1       519  20045           12        2020  0.546263   \n",
            "555715  111.84       1     28739   7675           12        2020  0.621749   \n",
            "555716   86.88       0      3684  14277           12        2020  0.461740   \n",
            "555717    7.99       1       129  20105           12        2020  0.154975   \n",
            "555718   38.13       1    116001  10097           12        2020  0.543597   \n",
            "\n",
            "        long_dis  category_entertainment  category_food_dining  ...  \\\n",
            "0       0.265214                   False                 False  ...   \n",
            "1       0.475569                   False                 False  ...   \n",
            "2       0.659611                   False                 False  ...   \n",
            "3       0.063961                   False                 False  ...   \n",
            "4       0.867734                   False                 False  ...   \n",
            "...          ...                     ...                   ...  ...   \n",
            "555714  0.557869                   False                 False  ...   \n",
            "555715  0.746533                   False                 False  ...   \n",
            "555716  0.813354                   False                 False  ...   \n",
            "555717  0.631588                   False                 False  ...   \n",
            "555718  0.443428                    True                 False  ...   \n",
            "\n",
            "        category_grocery_pos  category_health_fitness  category_home  \\\n",
            "0                      False                    False          False   \n",
            "1                      False                    False          False   \n",
            "2                      False                     True          False   \n",
            "3                      False                    False          False   \n",
            "4                      False                    False          False   \n",
            "...                      ...                      ...            ...   \n",
            "555714                 False                     True          False   \n",
            "555715                 False                    False          False   \n",
            "555716                 False                    False          False   \n",
            "555717                 False                    False          False   \n",
            "555718                 False                    False          False   \n",
            "\n",
            "        category_kids_pets  category_misc_net  category_misc_pos  \\\n",
            "0                    False              False              False   \n",
            "1                    False              False              False   \n",
            "2                    False              False              False   \n",
            "3                    False              False               True   \n",
            "4                    False              False              False   \n",
            "...                    ...                ...                ...   \n",
            "555714               False              False              False   \n",
            "555715                True              False              False   \n",
            "555716                True              False              False   \n",
            "555717               False              False              False   \n",
            "555718               False              False              False   \n",
            "\n",
            "        category_personal_care  category_shopping_net  category_shopping_pos  \\\n",
            "0                         True                  False                  False   \n",
            "1                         True                  False                  False   \n",
            "2                        False                  False                  False   \n",
            "3                        False                  False                  False   \n",
            "4                        False                  False                  False   \n",
            "...                        ...                    ...                    ...   \n",
            "555714                   False                  False                  False   \n",
            "555715                   False                  False                  False   \n",
            "555716                   False                  False                  False   \n",
            "555717                   False                  False                  False   \n",
            "555718                   False                  False                  False   \n",
            "\n",
            "        category_travel  \n",
            "0                 False  \n",
            "1                 False  \n",
            "2                 False  \n",
            "3                 False  \n",
            "4                  True  \n",
            "...                 ...  \n",
            "555714            False  \n",
            "555715            False  \n",
            "555716            False  \n",
            "555717             True  \n",
            "555718            False  \n",
            "\n",
            "[555719 rows x 22 columns]\n"
          ]
        }
      ],
      "source": [
        "print(X_test)"
      ]
    },
    {
      "cell_type": "markdown",
      "metadata": {
        "id": "YehzDjTxa_oV"
      },
      "source": [
        "Importing the Dependencies for different Machine Learning Supervised - Classification Models:"
      ]
    },
    {
      "cell_type": "code",
      "execution_count": 29,
      "metadata": {
        "id": "4lg9M2MhQT5y"
      },
      "outputs": [],
      "source": [
        "from sklearn.preprocessing import StandardScaler\n",
        "from sklearn.linear_model import LogisticRegression\n",
        "from sklearn.tree import DecisionTreeClassifier\n",
        "from sklearn.ensemble import RandomForestClassifier\n",
        "from sklearn.metrics import accuracy_score, classification_report"
      ]
    },
    {
      "cell_type": "code",
      "execution_count": 30,
      "metadata": {
        "id": "fanGvMgebNxQ"
      },
      "outputs": [],
      "source": [
        "# performing feature scaling\n",
        "scaler = StandardScaler()\n",
        "scaler.fit(X_train)\n",
        "X_train = scaler.transform(X_train)\n",
        "X_test = scaler.transform(X_test)"
      ]
    },
    {
      "cell_type": "code",
      "execution_count": 31,
      "metadata": {
        "colab": {
          "base_uri": "https://localhost:8080/"
        },
        "id": "UM0zNTR4K3Re",
        "outputId": "46818d1a-09f6-436b-f5c1-f15a7c603d37"
      },
      "outputs": [
        {
          "data": {
            "text/plain": [
              "0.9500323004971937"
            ]
          },
          "execution_count": 31,
          "metadata": {},
          "output_type": "execute_result"
        }
      ],
      "source": [
        "# performing logistic regression\n",
        "logistic_regression=LogisticRegression()\n",
        "logistic_regression.fit(X_train,Y_train)\n",
        "y_pred_logistic = logistic_regression.predict(X_test)\n",
        "accuracy_logistic = accuracy_score(Y_test, y_pred_logistic)\n",
        "accuracy_logistic"
      ]
    },
    {
      "cell_type": "code",
      "execution_count": 32,
      "metadata": {
        "colab": {
          "base_uri": "https://localhost:8080/"
        },
        "id": "VQ2Vj1_PQ3Gp",
        "outputId": "4a5e45e0-f5e4-47ed-a2bc-7fa35188a632"
      },
      "outputs": [
        {
          "data": {
            "text/plain": [
              "0.9626843782559171"
            ]
          },
          "execution_count": 32,
          "metadata": {},
          "output_type": "execute_result"
        }
      ],
      "source": [
        "DecisionTree=DecisionTreeClassifier()\n",
        "DecisionTree.fit(X_train,Y_train)\n",
        "y_pred_dt = DecisionTree.predict(X_test)\n",
        "accuracy_dt = accuracy_score(Y_test, y_pred_dt)\n",
        "accuracy_dt"
      ]
    },
    {
      "cell_type": "code",
      "execution_count": 33,
      "metadata": {
        "colab": {
          "base_uri": "https://localhost:8080/"
        },
        "id": "XgqsR9ELRGdy",
        "outputId": "cfa06061-392c-4b24-dc58-07e4bf3b92c7"
      },
      "outputs": [
        {
          "data": {
            "text/plain": [
              "0.9749387730129796"
            ]
          },
          "execution_count": 33,
          "metadata": {},
          "output_type": "execute_result"
        }
      ],
      "source": [
        "random_forest = RandomForestClassifier(random_state=42,n_estimators=100)\n",
        "random_forest.fit(X_train, Y_train)\n",
        "y_pred_rf = random_forest.predict(X_test)\n",
        "accuracy_rf = accuracy_score(Y_test, y_pred_rf)\n",
        "accuracy_rf"
      ]
    },
    {
      "cell_type": "markdown",
      "metadata": {
        "id": "27A74KNhl06j"
      },
      "source": [
        "Thus, Random Forrest Model Works the Best! with Accuracy Score of 97.68%"
      ]
    },
    {
      "cell_type": "code",
      "execution_count": 34,
      "metadata": {
        "colab": {
          "base_uri": "https://localhost:8080/"
        },
        "id": "7-dOk4zlRPU9",
        "outputId": "cd2399bc-1b8e-47db-8608-69e14329634d"
      },
      "outputs": [
        {
          "name": "stdout",
          "output_type": "stream",
          "text": [
            "\n",
            "Classification Report for Logistic Regression:\n",
            "               precision    recall  f1-score   support\n",
            "\n",
            "           0       1.00      0.95      0.97    553574\n",
            "           1       0.05      0.73      0.10      2145\n",
            "\n",
            "    accuracy                           0.95    555719\n",
            "   macro avg       0.53      0.84      0.54    555719\n",
            "weighted avg       1.00      0.95      0.97    555719\n",
            "\n",
            "\n",
            "Classification Report for Decision Tree:\n",
            "               precision    recall  f1-score   support\n",
            "\n",
            "           0       1.00      0.96      0.98    553574\n",
            "           1       0.09      0.94      0.16      2145\n",
            "\n",
            "    accuracy                           0.96    555719\n",
            "   macro avg       0.54      0.95      0.57    555719\n",
            "weighted avg       1.00      0.96      0.98    555719\n",
            "\n",
            "\n",
            "Classification Report for Random Forest:\n",
            "               precision    recall  f1-score   support\n",
            "\n",
            "           0       1.00      0.98      0.99    553574\n",
            "           1       0.13      0.95      0.23      2145\n",
            "\n",
            "    accuracy                           0.97    555719\n",
            "   macro avg       0.56      0.96      0.61    555719\n",
            "weighted avg       1.00      0.97      0.98    555719\n",
            "\n"
          ]
        }
      ],
      "source": [
        "print(\"\\nClassification Report for Logistic Regression:\\n\", classification_report(Y_test, y_pred_logistic))\n",
        "print(\"\\nClassification Report for Decision Tree:\\n\", classification_report(Y_test, y_pred_dt))\n",
        "print(\"\\nClassification Report for Random Forest:\\n\", classification_report(Y_test, y_pred_rf))"
      ]
    },
    {
      "cell_type": "code",
      "execution_count": 35,
      "metadata": {
        "colab": {
          "base_uri": "https://localhost:8080/"
        },
        "id": "Fw3QouPohxmY",
        "outputId": "3a51721d-f53c-4b90-f0f3-0919f1af411d"
      },
      "outputs": [
        {
          "name": "stdout",
          "output_type": "stream",
          "text": [
            "Legitimate Transaction\n"
          ]
        },
        {
          "name": "stderr",
          "output_type": "stream",
          "text": [
            "C:\\Users\\ASUS\\AppData\\Roaming\\Python\\Python311\\site-packages\\sklearn\\utils\\validation.py:2749: UserWarning: X does not have valid feature names, but StandardScaler was fitted with feature names\n",
            "  warnings.warn(\n"
          ]
        }
      ],
      "source": [
        "# Assume 'input_data' is a DataFrame containing the input features for prediction\n",
        "input_data = pd.DataFrame({\n",
        "    'Unnamed: 0': [1],  # Replace with the actual value\n",
        "    'trans_date_trans_time': ['2022-01-01 12:00:00'],  # Replace with the actual date and time\n",
        "    'cc_num': [1234567890123456],  # Replace with the actual credit card number\n",
        "    'merchant': ['ExampleMerchant'],  # Replace with the actual merchant name\n",
        "    'category': ['ExampleCategory'],  # Replace with the actual category\n",
        "    'amt': [150.0],  # Replace with the actual amount\n",
        "    'first': ['John'],  # Replace with the actual first name\n",
        "    'last': ['Doe'],  # Replace with the actual last name\n",
        "    'gender': ['M'],  # Replace with the actual gender ('M' or 'F')\n",
        "    'street': ['123 Example St'],  # Replace with the actual street address\n",
        "    'city': ['ExampleCity'],  # Replace with the actual city\n",
        "    'state': ['EX'],  # Replace with the actual state\n",
        "    'zip': [12345],  # Replace with the actual zip code\n",
        "    'lat': [40.7128],  # Replace with the actual latitude\n",
        "    'long': [-74.0060],  # Replace with the actual longitude\n",
        "    'city_pop': [100000],  # Replace with the actual city population\n",
        "    'job': ['ExampleJob'],  # Replace with the actual job title\n",
        "    'dob': ['1990-01-01'],  # Replace with the actual date of birth\n",
        "    'trans_num': ['ExampleTransNum'],  # Replace with the actual transaction number\n",
        "    'unix_time': [1609459200],  # Replace with the actual Unix time\n",
        "    'merch_lat': [40.730610],  # Replace with the actual merchant latitude\n",
        "    'merch_long': [-73.935242],  # Replace with the actual merchant longitude\n",
        "})\n",
        "# Preprocess the input data\n",
        "input_data = preprocessing(input_data.copy())\n",
        "\n",
        "# Make sure that the input_data has the same columns as the training data\n",
        "missing_cols = set(pd.DataFrame(X_train).columns) - set(input_data.columns)\n",
        "for col in missing_cols:\n",
        "    input_data[col] = 0\n",
        "\n",
        "# Ensure the order of columns is the same as during training\n",
        "input_data = input_data[pd.DataFrame(X_train).columns]\n",
        "\n",
        "# Scale the input data\n",
        "input_data_scaled = scaler.transform(input_data)\n",
        "\n",
        "# Make predictions using the trained Random Forest model\n",
        "prediction = random_forest.predict(input_data_scaled)\n",
        "\n",
        "# Print the prediction\n",
        "if prediction[0] == 0:\n",
        "    print(\"Legitimate Transaction\")\n",
        "else:\n",
        "    print(\"Fraudulent Transaction\")\n"
      ]
    }
  ],
  "metadata": {
    "colab": {
      "provenance": []
    },
    "kernelspec": {
      "display_name": "Python 3",
      "name": "python3"
    },
    "language_info": {
      "codemirror_mode": {
        "name": "ipython",
        "version": 3
      },
      "file_extension": ".py",
      "mimetype": "text/x-python",
      "name": "python",
      "nbconvert_exporter": "python",
      "pygments_lexer": "ipython3",
      "version": "3.11.9"
    }
  },
  "nbformat": 4,
  "nbformat_minor": 0
}
