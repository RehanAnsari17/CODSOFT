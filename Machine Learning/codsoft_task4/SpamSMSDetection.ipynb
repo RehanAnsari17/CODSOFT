{
  "cells": [
    {
      "cell_type": "markdown",
      "metadata": {
        "id": "TbX_g6wMtoXj"
      },
      "source": [
        "Importing Modules/Dependencies for Data Handling"
      ]
    },
    {
      "cell_type": "code",
      "execution_count": 1,
      "metadata": {
        "id": "6Gr-Mpbkmk_7"
      },
      "outputs": [],
      "source": [
        "import numpy as np\n",
        "import pandas as pd"
      ]
    },
    {
      "cell_type": "markdown",
      "metadata": {
        "id": "wVargEtUxI5K"
      },
      "source": [
        "Loading the data set downloaded from Kaggle : https://www.kaggle.com/datasets/uciml/sms-spam-collection-dataset/data"
      ]
    },
    {
      "cell_type": "code",
      "execution_count": 2,
      "metadata": {
        "id": "d75KPFMLnnr6"
      },
      "outputs": [],
      "source": [
        "# loading the dataset\n",
        "data = pd.read_csv(r'D:\\CodSoft\\Machine Learning\\SpamSMSDetection\\spam.csv', encoding='ISO-8859-1')"
      ]
    },
    {
      "cell_type": "markdown",
      "metadata": {
        "id": "D5W972cRw68O"
      },
      "source": [
        "Data Preprocessing :"
      ]
    },
    {
      "cell_type": "code",
      "execution_count": 3,
      "metadata": {
        "colab": {
          "base_uri": "https://localhost:8080/"
        },
        "id": "Bx-Zfusmnw8z",
        "outputId": "8733693c-e869-474d-e80a-c639c4879ff8"
      },
      "outputs": [
        {
          "name": "stdout",
          "output_type": "stream",
          "text": [
            "        v1                                                 v2 Unnamed: 2  \\\n",
            "0      ham  Go until jurong point, crazy.. Available only ...        NaN   \n",
            "1      ham                      Ok lar... Joking wif u oni...        NaN   \n",
            "2     spam  Free entry in 2 a wkly comp to win FA Cup fina...        NaN   \n",
            "3      ham  U dun say so early hor... U c already then say...        NaN   \n",
            "4      ham  Nah I don't think he goes to usf, he lives aro...        NaN   \n",
            "...    ...                                                ...        ...   \n",
            "5567  spam  This is the 2nd time we have tried 2 contact u...        NaN   \n",
            "5568   ham              Will Ì_ b going to esplanade fr home?        NaN   \n",
            "5569   ham  Pity, * was in mood for that. So...any other s...        NaN   \n",
            "5570   ham  The guy did some bitching but I acted like i'd...        NaN   \n",
            "5571   ham                         Rofl. Its true to its name        NaN   \n",
            "\n",
            "     Unnamed: 3 Unnamed: 4  \n",
            "0           NaN        NaN  \n",
            "1           NaN        NaN  \n",
            "2           NaN        NaN  \n",
            "3           NaN        NaN  \n",
            "4           NaN        NaN  \n",
            "...         ...        ...  \n",
            "5567        NaN        NaN  \n",
            "5568        NaN        NaN  \n",
            "5569        NaN        NaN  \n",
            "5570        NaN        NaN  \n",
            "5571        NaN        NaN  \n",
            "\n",
            "[5572 rows x 5 columns]\n"
          ]
        }
      ],
      "source": [
        "print(data)"
      ]
    },
    {
      "cell_type": "code",
      "execution_count": 4,
      "metadata": {
        "id": "OlaSorKaoTQT"
      },
      "outputs": [],
      "source": [
        "# replace the null values with a null string\n",
        "data = data.where((pd.notnull(data)),'')\n",
        "\n",
        "# removing empty columns\n",
        "data = data.iloc[:, :2]"
      ]
    },
    {
      "cell_type": "code",
      "execution_count": 5,
      "metadata": {
        "colab": {
          "base_uri": "https://localhost:8080/",
          "height": 206
        },
        "id": "yFAbjp_koY2j",
        "outputId": "2e0e10e6-f497-4512-a79e-8b87bc23b0a0"
      },
      "outputs": [
        {
          "data": {
            "text/html": [
              "<div>\n",
              "<style scoped>\n",
              "    .dataframe tbody tr th:only-of-type {\n",
              "        vertical-align: middle;\n",
              "    }\n",
              "\n",
              "    .dataframe tbody tr th {\n",
              "        vertical-align: top;\n",
              "    }\n",
              "\n",
              "    .dataframe thead th {\n",
              "        text-align: right;\n",
              "    }\n",
              "</style>\n",
              "<table border=\"1\" class=\"dataframe\">\n",
              "  <thead>\n",
              "    <tr style=\"text-align: right;\">\n",
              "      <th></th>\n",
              "      <th>v1</th>\n",
              "      <th>v2</th>\n",
              "    </tr>\n",
              "  </thead>\n",
              "  <tbody>\n",
              "    <tr>\n",
              "      <th>0</th>\n",
              "      <td>ham</td>\n",
              "      <td>Go until jurong point, crazy.. Available only ...</td>\n",
              "    </tr>\n",
              "    <tr>\n",
              "      <th>1</th>\n",
              "      <td>ham</td>\n",
              "      <td>Ok lar... Joking wif u oni...</td>\n",
              "    </tr>\n",
              "    <tr>\n",
              "      <th>2</th>\n",
              "      <td>spam</td>\n",
              "      <td>Free entry in 2 a wkly comp to win FA Cup fina...</td>\n",
              "    </tr>\n",
              "    <tr>\n",
              "      <th>3</th>\n",
              "      <td>ham</td>\n",
              "      <td>U dun say so early hor... U c already then say...</td>\n",
              "    </tr>\n",
              "    <tr>\n",
              "      <th>4</th>\n",
              "      <td>ham</td>\n",
              "      <td>Nah I don't think he goes to usf, he lives aro...</td>\n",
              "    </tr>\n",
              "  </tbody>\n",
              "</table>\n",
              "</div>"
            ],
            "text/plain": [
              "     v1                                                 v2\n",
              "0   ham  Go until jurong point, crazy.. Available only ...\n",
              "1   ham                      Ok lar... Joking wif u oni...\n",
              "2  spam  Free entry in 2 a wkly comp to win FA Cup fina...\n",
              "3   ham  U dun say so early hor... U c already then say...\n",
              "4   ham  Nah I don't think he goes to usf, he lives aro..."
            ]
          },
          "execution_count": 5,
          "metadata": {},
          "output_type": "execute_result"
        }
      ],
      "source": [
        "# printing the first 5 rows of the dataframe\n",
        "data.head()"
      ]
    },
    {
      "cell_type": "markdown",
      "metadata": {
        "id": "yoFCbCvXt-WC"
      },
      "source": [
        "V1 - Classification\n",
        "<br>\n",
        "V2 - Message"
      ]
    },
    {
      "cell_type": "code",
      "execution_count": 6,
      "metadata": {
        "colab": {
          "base_uri": "https://localhost:8080/"
        },
        "id": "MHAOSKc2obBV",
        "outputId": "b624d3f5-21df-4ce1-bc87-4035cd7022cc"
      },
      "outputs": [
        {
          "data": {
            "text/plain": [
              "(5572, 2)"
            ]
          },
          "execution_count": 6,
          "metadata": {},
          "output_type": "execute_result"
        }
      ],
      "source": [
        "# checking the number of rows and columns in the dataframe\n",
        "data.shape"
      ]
    },
    {
      "cell_type": "code",
      "execution_count": 7,
      "metadata": {
        "id": "fiBz5ss4pIXQ"
      },
      "outputs": [],
      "source": [
        "# label spam mail as 0;  ham mail as 1;\n",
        "data.loc[data['v1'] == 'spam', 'v1',] = 0\n",
        "data.loc[data['v1'] == 'ham', 'v1',] = 1"
      ]
    },
    {
      "cell_type": "code",
      "execution_count": 8,
      "metadata": {
        "id": "Tsi8igw1pLPD"
      },
      "outputs": [],
      "source": [
        "# separating the data as texts (inputs) and label(target)\n",
        "X = data['v2']\n",
        "Y = data['v1']"
      ]
    },
    {
      "cell_type": "code",
      "execution_count": 9,
      "metadata": {
        "colab": {
          "base_uri": "https://localhost:8080/"
        },
        "id": "ymncphY1pkpT",
        "outputId": "00b13c3e-0559-4caa-d6d0-df427a8cab0d"
      },
      "outputs": [
        {
          "name": "stdout",
          "output_type": "stream",
          "text": [
            "0       Go until jurong point, crazy.. Available only ...\n",
            "1                           Ok lar... Joking wif u oni...\n",
            "2       Free entry in 2 a wkly comp to win FA Cup fina...\n",
            "3       U dun say so early hor... U c already then say...\n",
            "4       Nah I don't think he goes to usf, he lives aro...\n",
            "                              ...                        \n",
            "5567    This is the 2nd time we have tried 2 contact u...\n",
            "5568                Will Ì_ b going to esplanade fr home?\n",
            "5569    Pity, * was in mood for that. So...any other s...\n",
            "5570    The guy did some bitching but I acted like i'd...\n",
            "5571                           Rofl. Its true to its name\n",
            "Name: v2, Length: 5572, dtype: object\n"
          ]
        }
      ],
      "source": [
        "print(X)"
      ]
    },
    {
      "cell_type": "code",
      "execution_count": 10,
      "metadata": {
        "colab": {
          "base_uri": "https://localhost:8080/"
        },
        "id": "SLADsF-NpodV",
        "outputId": "bdff47ff-9cc6-40cb-87cc-116f1e73550a"
      },
      "outputs": [
        {
          "name": "stdout",
          "output_type": "stream",
          "text": [
            "0       1\n",
            "1       1\n",
            "2       0\n",
            "3       1\n",
            "4       1\n",
            "       ..\n",
            "5567    0\n",
            "5568    1\n",
            "5569    1\n",
            "5570    1\n",
            "5571    1\n",
            "Name: v1, Length: 5572, dtype: object\n"
          ]
        }
      ],
      "source": [
        "print(Y)"
      ]
    },
    {
      "cell_type": "markdown",
      "metadata": {
        "id": "xSZW44_AuiSH"
      },
      "source": [
        "Splitting the data set into Training data and Testing data"
      ]
    },
    {
      "cell_type": "code",
      "execution_count": 12,
      "metadata": {
        "id": "aIsAH1g2pqtp"
      },
      "outputs": [],
      "source": [
        "from sklearn.model_selection import train_test_split\n",
        "\n",
        "X_train, X_test, Y_train, Y_test = train_test_split(X, Y, test_size=0.2, random_state=42)"
      ]
    },
    {
      "cell_type": "markdown",
      "metadata": {
        "id": "8MXJJUj3wJ_6"
      },
      "source": [
        "Creating a TfidfVectorizer object :\n",
        "<br>\n",
        "It is a numerical statistic that reflects how important a word is to a document in a collection or corpus. It's a product of two metrics: Term Frequency (TF) and Inverse Document Frequency (IDF)."
      ]
    },
    {
      "cell_type": "code",
      "execution_count": 13,
      "metadata": {
        "id": "sjDbgA37p6fL"
      },
      "outputs": [],
      "source": [
        "from sklearn.feature_extraction.text import TfidfVectorizer\n",
        "\n",
        "# transform the text data to feature vectors that can be used as input to the Logistic regression\n",
        "feature_extraction = TfidfVectorizer(min_df = 1, stop_words='english', lowercase=True)\n",
        "\n",
        "X_train_features = feature_extraction.fit_transform(X_train)\n",
        "X_test_features = feature_extraction.transform(X_test)\n",
        "\n",
        "# convert Y_train and Y_test values as integers\n",
        "Y_train = Y_train.astype('int')\n",
        "Y_test = Y_test.astype('int')"
      ]
    },
    {
      "cell_type": "code",
      "execution_count": 14,
      "metadata": {
        "colab": {
          "base_uri": "https://localhost:8080/"
        },
        "id": "Q3WahZXvqKXC",
        "outputId": "935871ec-bc20-4b3b-9c1f-16c1b5a72373"
      },
      "outputs": [
        {
          "name": "stdout",
          "output_type": "stream",
          "text": [
            "1978    No I'm in the same boat. Still here at my moms...\n",
            "3989    (Bank of Granite issues Strong-Buy) EXPLOSIVE ...\n",
            "3935       They r giving a second chance to rahul dengra.\n",
            "4078       O i played smash bros  &lt;#&gt;  religiously.\n",
            "4086    PRIVATE! Your 2003 Account Statement for 07973...\n",
            "                              ...                        \n",
            "3772    I came hostel. I m going to sleep. Plz call me...\n",
            "5191                               Sorry, I'll call later\n",
            "5226        Prabha..i'm soryda..realy..frm heart i'm sory\n",
            "5390                           Nt joking seriously i told\n",
            "860                   In work now. Going have in few min.\n",
            "Name: v2, Length: 4457, dtype: object\n"
          ]
        }
      ],
      "source": [
        "print(X_train)"
      ]
    },
    {
      "cell_type": "code",
      "execution_count": 15,
      "metadata": {
        "colab": {
          "base_uri": "https://localhost:8080/"
        },
        "id": "xornZkmKq2DP",
        "outputId": "204b080b-de1e-4cef-8cff-0466a504936b"
      },
      "outputs": [
        {
          "name": "stdout",
          "output_type": "stream",
          "text": [
            "<Compressed Sparse Row sparse matrix of dtype 'float64'\n",
            "\twith 34794 stored elements and shape (4457, 7472)>\n",
            "  Coords\tValues\n",
            "  (0, 1371)\t0.4658046386365619\n",
            "  (0, 4416)\t0.4528381701109944\n",
            "  (0, 1706)\t0.3431839629173582\n",
            "  (0, 7415)\t0.348722265231364\n",
            "  (0, 3210)\t0.348722265231364\n",
            "  (0, 4520)\t0.4658046386365619\n",
            "  (1, 1187)\t0.26161139982801973\n",
            "  (1, 3140)\t0.3059746053542906\n",
            "  (1, 3631)\t0.2804339696184593\n",
            "  (1, 6296)\t0.269833648032668\n",
            "  (1, 1533)\t0.2015782058421696\n",
            "  (1, 2661)\t0.3059746053542906\n",
            "  (1, 5005)\t0.1937920260229529\n",
            "  (1, 4292)\t0.2953742837684993\n",
            "  (1, 419)\t0.28715203556385105\n",
            "  (1, 4533)\t0.3059746053542906\n",
            "  (1, 6440)\t0.2953742837684993\n",
            "  (1, 1649)\t0.3059746053542906\n",
            "  (1, 0)\t0.2654936554684193\n",
            "  (2, 3061)\t0.44585171875646595\n",
            "  (2, 5770)\t0.3962151014046925\n",
            "  (2, 1674)\t0.35156722029872034\n",
            "  (2, 5351)\t0.5102109014477275\n",
            "  (2, 2190)\t0.5102109014477275\n",
            "  (3, 5048)\t0.4444794309161828\n",
            "  :\t:\n",
            "  (4451, 5002)\t0.36484607066812064\n",
            "  (4451, 4939)\t0.36484607066812064\n",
            "  (4452, 3085)\t0.25923599228241945\n",
            "  (4452, 5070)\t0.3823754823843719\n",
            "  (4452, 5998)\t0.3311324953642251\n",
            "  (4452, 1781)\t0.3311324953642251\n",
            "  (4452, 1579)\t0.3576443319642905\n",
            "  (4452, 3423)\t0.4833413012939851\n",
            "  (4452, 3402)\t0.4536077050510107\n",
            "  (4453, 4022)\t0.5251399912435084\n",
            "  (4453, 3896)\t0.6138307933697734\n",
            "  (4453, 6102)\t0.5894401977366341\n",
            "  (4454, 3282)\t0.31753127203477105\n",
            "  (4454, 5161)\t0.43497582872738466\n",
            "  (4454, 6109)\t0.44743083090000146\n",
            "  (4454, 5413)\t0.40874206042479744\n",
            "  (4454, 2938)\t0.3775064911532845\n",
            "  (4454, 6108)\t0.44743083090000146\n",
            "  (4455, 3720)\t0.5663548747533713\n",
            "  (4455, 4674)\t0.47741741602516974\n",
            "  (4455, 5819)\t0.5321975225970689\n",
            "  (4455, 6701)\t0.40997629646174116\n",
            "  (4456, 3085)\t0.5132022683472269\n",
            "  (4456, 7301)\t0.5938942231507836\n",
            "  (4456, 4332)\t0.6196072009518515\n"
          ]
        }
      ],
      "source": [
        "print(X_train_features)"
      ]
    },
    {
      "cell_type": "markdown",
      "metadata": {
        "id": "jwvh3Ydcuvv8"
      },
      "source": [
        "Importing the Dependencies of the Required ML Models to Experiment on the given data set:"
      ]
    },
    {
      "cell_type": "code",
      "execution_count": 16,
      "metadata": {
        "id": "O4P0B4h4q5kL"
      },
      "outputs": [],
      "source": [
        "from sklearn.linear_model import LogisticRegression\n",
        "from sklearn.naive_bayes import MultinomialNB\n",
        "from sklearn.svm import SVC\n",
        "from sklearn.metrics import accuracy_score"
      ]
    },
    {
      "cell_type": "code",
      "execution_count": 17,
      "metadata": {
        "colab": {
          "base_uri": "https://localhost:8080/"
        },
        "id": "BC-3JySqq_nT",
        "outputId": "5200abb7-72c9-46f4-82c1-0edc634bbb5f"
      },
      "outputs": [
        {
          "name": "stdout",
          "output_type": "stream",
          "text": [
            "Accuracy on training data :  0.9692618353152345\n",
            "Accuracy on test data :  0.9524663677130045\n"
          ]
        }
      ],
      "source": [
        "model_lr = LogisticRegression() #Logistic Regression Classification Model\n",
        "\n",
        "# training the Logistic Regression model with the training data\n",
        "model_lr.fit(X_train_features, Y_train)\n",
        "\n",
        "# prediction on training data\n",
        "prediction_on_training_data = model_lr.predict(X_train_features)\n",
        "accuracy_on_training_data = accuracy_score(Y_train, prediction_on_training_data)\n",
        "print('Accuracy on training data : ', accuracy_on_training_data)\n",
        "\n",
        "# prediction on test data\n",
        "prediction_on_test_data = model_lr.predict(X_test_features)\n",
        "accuracy_on_test_data = accuracy_score(Y_test, prediction_on_test_data)\n",
        "print('Accuracy on test data : ', accuracy_on_test_data)"
      ]
    },
    {
      "cell_type": "code",
      "execution_count": 18,
      "metadata": {
        "colab": {
          "base_uri": "https://localhost:8080/"
        },
        "id": "oEPrKEoorDk0",
        "outputId": "9a5698ac-bfd3-4bba-e4d2-c780480586b3"
      },
      "outputs": [
        {
          "name": "stdout",
          "output_type": "stream",
          "text": [
            "Accuracy on training data :  0.9838456360780794\n",
            "Accuracy on test data :  0.9668161434977578\n"
          ]
        }
      ],
      "source": [
        "model_nb = MultinomialNB() # Naive Bayes Classification Model\n",
        "\n",
        "# training the Logistic Regression model with the training data\n",
        "model_nb.fit(X_train_features, Y_train)\n",
        "\n",
        "# prediction on training data\n",
        "prediction_on_training_data = model_nb.predict(X_train_features)\n",
        "accuracy_on_training_data = accuracy_score(Y_train, prediction_on_training_data)\n",
        "print('Accuracy on training data : ', accuracy_on_training_data)\n",
        "\n",
        "# prediction on test data\n",
        "prediction_on_test_data = model_nb.predict(X_test_features)\n",
        "accuracy_on_test_data = accuracy_score(Y_test, prediction_on_test_data)\n",
        "print('Accuracy on test data : ', accuracy_on_test_data)"
      ]
    },
    {
      "cell_type": "code",
      "execution_count": 19,
      "metadata": {
        "colab": {
          "base_uri": "https://localhost:8080/"
        },
        "id": "_Oy42L-krH-Q",
        "outputId": "b1ecf57f-93f4-41ae-aa00-dee3e153756a"
      },
      "outputs": [
        {
          "name": "stdout",
          "output_type": "stream",
          "text": [
            "Accuracy on training data :  0.9973076060130133\n",
            "Accuracy on test data :  0.979372197309417\n"
          ]
        }
      ],
      "source": [
        "model_svc = SVC(kernel='linear') # Support Vector Classification Model\n",
        "\n",
        "# training the Logistic Regression model with the training data\n",
        "model_svc.fit(X_train_features, Y_train)\n",
        "\n",
        "# prediction on training data\n",
        "prediction_on_training_data = model_svc.predict(X_train_features)\n",
        "accuracy_on_training_data = accuracy_score(Y_train, prediction_on_training_data)\n",
        "print('Accuracy on training data : ', accuracy_on_training_data)\n",
        "\n",
        "# prediction on test data\n",
        "prediction_on_test_data = model_svc.predict(X_test_features)\n",
        "accuracy_on_test_data = accuracy_score(Y_test, prediction_on_test_data)\n",
        "print('Accuracy on test data : ', accuracy_on_test_data)"
      ]
    },
    {
      "cell_type": "markdown",
      "metadata": {
        "id": "AqKD_0qBvm0i"
      },
      "source": [
        "Thus, Support Vector Classifier has the best accuracy score over training data of 99.73%"
      ]
    },
    {
      "cell_type": "markdown",
      "metadata": {
        "id": "Zr1SaE4AxCWr"
      },
      "source": [
        "Testing the Model :"
      ]
    },
    {
      "cell_type": "code",
      "execution_count": 24,
      "metadata": {
        "colab": {
          "base_uri": "https://localhost:8080/"
        },
        "id": "V4l_0E_qrSmS",
        "outputId": "383a3e44-990a-44ff-d6f2-0e4c8af9efd0"
      },
      "outputs": [
        {
          "name": "stdout",
          "output_type": "stream",
          "text": [
            "[0]\n",
            "Spam SMS\n"
          ]
        }
      ],
      "source": [
        "input_mail = [\"Winner!!You won the million dollar lottery, call this Nuber 56783894 and share your bank data to win the price 450000\"]\n",
        "\n",
        "# convert text to feature vectors\n",
        "input_data_features = feature_extraction.transform(input_mail)\n",
        "\n",
        "# making prediction using SVC Model\n",
        "prediction = model_svc.predict(input_data_features)\n",
        "print(prediction)\n",
        "\n",
        "if (prediction[0]==1):\n",
        "  print('Legitimate SMS')\n",
        "else:\n",
        "  print('Spam SMS')"
      ]
    },
    {
      "cell_type": "code",
      "execution_count": null,
      "metadata": {
        "colab": {
          "base_uri": "https://localhost:8080/"
        },
        "id": "1dLLFO0DveDg",
        "outputId": "3edbebb9-cddd-4520-a3f6-504287060f78"
      },
      "outputs": [
        {
          "name": "stdout",
          "output_type": "stream",
          "text": [
            "[1]\n",
            "Legitimate SMS\n"
          ]
        }
      ],
      "source": [
        "input_mail = [\"Free entry in 2 a wkly comp to win FA Cup\"]\n",
        "\n",
        "# convert text to feature vectors\n",
        "input_data_features = feature_extraction.transform(input_mail)\n",
        "\n",
        "# making prediction\n",
        "prediction = model_svc.predict(input_data_features)\n",
        "print(prediction)\n",
        "\n",
        "if (prediction[0]==1):\n",
        "  print('Legitimate SMS')\n",
        "else:\n",
        "  print('Spam SMS')"
      ]
    }
  ],
  "metadata": {
    "colab": {
      "provenance": []
    },
    "kernelspec": {
      "display_name": "Python 3",
      "name": "python3"
    },
    "language_info": {
      "codemirror_mode": {
        "name": "ipython",
        "version": 3
      },
      "file_extension": ".py",
      "mimetype": "text/x-python",
      "name": "python",
      "nbconvert_exporter": "python",
      "pygments_lexer": "ipython3",
      "version": "3.11.9"
    }
  },
  "nbformat": 4,
  "nbformat_minor": 0
}
